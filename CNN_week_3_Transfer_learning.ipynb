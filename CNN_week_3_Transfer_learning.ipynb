{
  "nbformat": 4,
  "nbformat_minor": 0,
  "metadata": {
    "colab": {
      "name": "CNN week 3 Transfer learning.ipynb",
      "provenance": []
    },
    "kernelspec": {
      "name": "python3",
      "display_name": "Python 3"
    },
    "language_info": {
      "name": "python"
    }
  },
  "cells": [
    {
      "cell_type": "code",
      "metadata": {
        "colab": {
          "base_uri": "https://localhost:8080/"
        },
        "id": "uxbxH6wQIS3h",
        "outputId": "ecf03ec2-69ce-4584-bbf4-aaf57bb03113"
      },
      "source": [
        "import os\n",
        "\n",
        "from tensorflow.keras import layers\n",
        "from tensorflow.keras import Model\n",
        "\n",
        "!wget --no-check-certificate \\\n",
        "    https://storage.googleapis.com/mledu-datasets/inception_v3_weights_tf_dim_ordering_tf_kernels_notop.h5 \\\n",
        "    -O /tmp/inception_v3_weights_tf_dim_ordering_tf_kernels_notop.h5"
      ],
      "execution_count": 1,
      "outputs": [
        {
          "output_type": "stream",
          "name": "stdout",
          "text": [
            "--2021-11-16 05:02:15--  https://storage.googleapis.com/mledu-datasets/inception_v3_weights_tf_dim_ordering_tf_kernels_notop.h5\n",
            "Resolving storage.googleapis.com (storage.googleapis.com)... 172.217.203.128, 74.125.31.128, 74.125.134.128, ...\n",
            "Connecting to storage.googleapis.com (storage.googleapis.com)|172.217.203.128|:443... connected.\n",
            "HTTP request sent, awaiting response... 200 OK\n",
            "Length: 87910968 (84M) [application/x-hdf]\n",
            "Saving to: ‘/tmp/inception_v3_weights_tf_dim_ordering_tf_kernels_notop.h5’\n",
            "\n",
            "/tmp/inception_v3_w 100%[===================>]  83.84M   123MB/s    in 0.7s    \n",
            "\n",
            "2021-11-16 05:02:16 (123 MB/s) - ‘/tmp/inception_v3_weights_tf_dim_ordering_tf_kernels_notop.h5’ saved [87910968/87910968]\n",
            "\n"
          ]
        }
      ]
    },
    {
      "cell_type": "code",
      "metadata": {
        "colab": {
          "base_uri": "https://localhost:8080/"
        },
        "id": "_dcR-PPUIS0K",
        "outputId": "858481d8-8c1d-48cb-a440-c691193fe220"
      },
      "source": [
        "from tensorflow.keras.applications.inception_v3 import InceptionV3\n",
        "\n",
        "local_weights_file = '/tmp/inception_v3_weights_tf_dim_ordering_tf_kernels_notop.h5'\n",
        "\n",
        "pre_trained_model = InceptionV3(input_shape = (150, 150, 3), \n",
        "                                include_top = False, \n",
        "                                weights = None)\n",
        "\n",
        "pre_trained_model.load_weights(local_weights_file)\n",
        "\n",
        "for layer in pre_trained_model.layers:\n",
        "  layer.trainable = False\n",
        "  \n",
        "# pre_trained_model.summary()\n",
        "\n",
        "last_layer = pre_trained_model.get_layer('mixed7')\n",
        "print('last layer output shape: ', last_layer.output_shape)\n",
        "last_output = last_layer.output"
      ],
      "execution_count": 2,
      "outputs": [
        {
          "output_type": "stream",
          "name": "stdout",
          "text": [
            "last layer output shape:  (None, 7, 7, 768)\n"
          ]
        }
      ]
    },
    {
      "cell_type": "code",
      "metadata": {
        "id": "UvSu15GcISxf"
      },
      "source": [
        "from tensorflow.keras.optimizers import RMSprop\n",
        "\n",
        "# Flatten the output layer to 1 dimension\n",
        "x = layers.Flatten()(last_output)\n",
        "# Add a fully connected layer with 1,024 hidden units and ReLU activation\n",
        "x = layers.Dense(1024, activation='relu')(x)\n",
        "# Add a dropout rate of 0.2\n",
        "x = layers.Dropout(0.2)(x)                  \n",
        "# Add a final sigmoid layer for classification\n",
        "x = layers.Dense  (1, activation='sigmoid')(x)           \n",
        "\n",
        "model = Model( pre_trained_model.input, x) \n",
        "\n",
        "model.compile(optimizer = RMSprop(learning_rate=0.0001), \n",
        "              loss = 'binary_crossentropy', \n",
        "              metrics = ['accuracy'])"
      ],
      "execution_count": 3,
      "outputs": []
    },
    {
      "cell_type": "code",
      "metadata": {
        "colab": {
          "base_uri": "https://localhost:8080/"
        },
        "id": "cDSyZ-7MISuv",
        "outputId": "79205625-c463-442e-8d7d-d5c05f17c74e"
      },
      "source": [
        "!gdown --id 1RL0T7Rg4XqQNRCkjfnLo4goOJQ7XZro9\n",
        "\n",
        "from tensorflow.keras.preprocessing.image import ImageDataGenerator\n",
        "\n",
        "import os\n",
        "import zipfile\n",
        "\n",
        "zip_ref = zipfile.ZipFile(\"./cats_and_dogs_filtered.zip\", 'r')\n",
        "zip_ref.extractall(\"tmp/\")\n",
        "zip_ref.close()\n",
        "\n",
        "# Define our example directories and files\n",
        "base_dir = 'tmp/cats_and_dogs_filtered'\n",
        "\n",
        "train_dir = os.path.join( base_dir, 'train')\n",
        "validation_dir = os.path.join( base_dir, 'validation')\n",
        "\n",
        "\n",
        "train_cats_dir = os.path.join(train_dir, 'cats') # Directory with our training cat pictures\n",
        "train_dogs_dir = os.path.join(train_dir, 'dogs') # Directory with our training dog pictures\n",
        "validation_cats_dir = os.path.join(validation_dir, 'cats') # Directory with our validation cat pictures\n",
        "validation_dogs_dir = os.path.join(validation_dir, 'dogs')# Directory with our validation dog pictures\n",
        "\n",
        "train_cat_fnames = os.listdir(train_cats_dir)\n",
        "train_dog_fnames = os.listdir(train_dogs_dir)\n",
        "\n",
        "# Add our data-augmentation parameters to ImageDataGenerator\n",
        "train_datagen = ImageDataGenerator(rescale = 1./255.,\n",
        "                                   rotation_range = 40,\n",
        "                                   width_shift_range = 0.2,\n",
        "                                   height_shift_range = 0.2,\n",
        "                                   shear_range = 0.2,\n",
        "                                   zoom_range = 0.2,\n",
        "                                   horizontal_flip = True)\n",
        "\n",
        "# Note that the validation data should not be augmented!\n",
        "test_datagen = ImageDataGenerator( rescale = 1.0/255. )\n",
        "\n",
        "# Flow training images in batches of 20 using train_datagen generator\n",
        "train_generator = train_datagen.flow_from_directory(train_dir,\n",
        "                                                    batch_size = 20,\n",
        "                                                    class_mode = 'binary', \n",
        "                                                    target_size = (150, 150))     \n",
        "\n",
        "# Flow validation images in batches of 20 using test_datagen generator\n",
        "validation_generator =  test_datagen.flow_from_directory( validation_dir,\n",
        "                                                          batch_size  = 20,\n",
        "                                                          class_mode  = 'binary', \n",
        "                                                          target_size = (150, 150))"
      ],
      "execution_count": 4,
      "outputs": [
        {
          "output_type": "stream",
          "name": "stdout",
          "text": [
            "Downloading...\n",
            "From: https://drive.google.com/uc?id=1RL0T7Rg4XqQNRCkjfnLo4goOJQ7XZro9\n",
            "To: /content/cats_and_dogs_filtered.zip\n",
            "100% 68.6M/68.6M [00:00<00:00, 83.6MB/s]\n",
            "Found 2000 images belonging to 2 classes.\n",
            "Found 1000 images belonging to 2 classes.\n"
          ]
        }
      ]
    },
    {
      "cell_type": "code",
      "metadata": {
        "colab": {
          "base_uri": "https://localhost:8080/"
        },
        "id": "fnPe7hh9ISsI",
        "outputId": "8e4d80a3-1004-46ad-b9d2-9718ae748362"
      },
      "source": [
        "history = model.fit(\n",
        "            train_generator,\n",
        "            validation_data = validation_generator,\n",
        "            steps_per_epoch = 100,\n",
        "            epochs = 20,\n",
        "            validation_steps = 50,\n",
        "            verbose = 2)"
      ],
      "execution_count": 5,
      "outputs": [
        {
          "output_type": "stream",
          "name": "stdout",
          "text": [
            "Epoch 1/20\n",
            "100/100 - 172s - loss: 0.3138 - accuracy: 0.8715 - val_loss: 0.1316 - val_accuracy: 0.9510 - 172s/epoch - 2s/step\n",
            "Epoch 2/20\n",
            "100/100 - 167s - loss: 0.2201 - accuracy: 0.9165 - val_loss: 0.1302 - val_accuracy: 0.9570 - 167s/epoch - 2s/step\n",
            "Epoch 3/20\n",
            "100/100 - 159s - loss: 0.2126 - accuracy: 0.9210 - val_loss: 0.0983 - val_accuracy: 0.9690 - 159s/epoch - 2s/step\n",
            "Epoch 4/20\n",
            "100/100 - 168s - loss: 0.2122 - accuracy: 0.9225 - val_loss: 0.1121 - val_accuracy: 0.9590 - 168s/epoch - 2s/step\n",
            "Epoch 5/20\n",
            "100/100 - 159s - loss: 0.2121 - accuracy: 0.9220 - val_loss: 0.1119 - val_accuracy: 0.9640 - 159s/epoch - 2s/step\n",
            "Epoch 6/20\n",
            "100/100 - 162s - loss: 0.1877 - accuracy: 0.9355 - val_loss: 0.1248 - val_accuracy: 0.9630 - 162s/epoch - 2s/step\n",
            "Epoch 7/20\n",
            "100/100 - 155s - loss: 0.1505 - accuracy: 0.9400 - val_loss: 0.1199 - val_accuracy: 0.9680 - 155s/epoch - 2s/step\n",
            "Epoch 8/20\n",
            "100/100 - 157s - loss: 0.1609 - accuracy: 0.9445 - val_loss: 0.1118 - val_accuracy: 0.9670 - 157s/epoch - 2s/step\n",
            "Epoch 9/20\n",
            "100/100 - 154s - loss: 0.1597 - accuracy: 0.9445 - val_loss: 0.1225 - val_accuracy: 0.9670 - 154s/epoch - 2s/step\n",
            "Epoch 10/20\n",
            "100/100 - 158s - loss: 0.1595 - accuracy: 0.9475 - val_loss: 0.1294 - val_accuracy: 0.9650 - 158s/epoch - 2s/step\n",
            "Epoch 11/20\n",
            "100/100 - 158s - loss: 0.1525 - accuracy: 0.9500 - val_loss: 0.1228 - val_accuracy: 0.9660 - 158s/epoch - 2s/step\n",
            "Epoch 12/20\n",
            "100/100 - 159s - loss: 0.1578 - accuracy: 0.9465 - val_loss: 0.1262 - val_accuracy: 0.9620 - 159s/epoch - 2s/step\n",
            "Epoch 13/20\n",
            "100/100 - 159s - loss: 0.1493 - accuracy: 0.9520 - val_loss: 0.2153 - val_accuracy: 0.9440 - 159s/epoch - 2s/step\n",
            "Epoch 14/20\n",
            "100/100 - 162s - loss: 0.1401 - accuracy: 0.9535 - val_loss: 0.1790 - val_accuracy: 0.9540 - 162s/epoch - 2s/step\n",
            "Epoch 15/20\n",
            "100/100 - 159s - loss: 0.1428 - accuracy: 0.9540 - val_loss: 0.1579 - val_accuracy: 0.9610 - 159s/epoch - 2s/step\n",
            "Epoch 16/20\n",
            "100/100 - 159s - loss: 0.1367 - accuracy: 0.9500 - val_loss: 0.2055 - val_accuracy: 0.9550 - 159s/epoch - 2s/step\n",
            "Epoch 17/20\n",
            "100/100 - 165s - loss: 0.1173 - accuracy: 0.9635 - val_loss: 0.3300 - val_accuracy: 0.9310 - 165s/epoch - 2s/step\n",
            "Epoch 18/20\n",
            "100/100 - 158s - loss: 0.1450 - accuracy: 0.9490 - val_loss: 0.1753 - val_accuracy: 0.9540 - 158s/epoch - 2s/step\n",
            "Epoch 19/20\n",
            "100/100 - 159s - loss: 0.1523 - accuracy: 0.9490 - val_loss: 0.1358 - val_accuracy: 0.9650 - 159s/epoch - 2s/step\n",
            "Epoch 20/20\n",
            "100/100 - 165s - loss: 0.1300 - accuracy: 0.9600 - val_loss: 0.1452 - val_accuracy: 0.9590 - 165s/epoch - 2s/step\n"
          ]
        }
      ]
    },
    {
      "cell_type": "code",
      "metadata": {
        "colab": {
          "base_uri": "https://localhost:8080/",
          "height": 299
        },
        "id": "Fwi93munISoz",
        "outputId": "9871b7fa-93a3-462d-be52-d9d4df48e8ac"
      },
      "source": [
        "import matplotlib.pyplot as plt\n",
        "acc = history.history['accuracy']\n",
        "val_acc = history.history['val_accuracy']\n",
        "loss = history.history['loss']\n",
        "val_loss = history.history['val_loss']\n",
        "\n",
        "epochs = range(len(acc))\n",
        "\n",
        "plt.plot(epochs, acc, 'r', label='Training accuracy')\n",
        "plt.plot(epochs, val_acc, 'b', label='Validation accuracy')\n",
        "plt.title('Training and validation accuracy')\n",
        "plt.legend(loc=0)\n",
        "plt.figure()\n",
        "\n",
        "\n",
        "plt.show()"
      ],
      "execution_count": 6,
      "outputs": [
        {
          "output_type": "display_data",
          "data": {
            "image/png": "[encoded data removed]",
            "text/plain": [
              "<Figure size 432x288 with 1 Axes>"
            ]
          },
          "metadata": {
            "needs_background": "light"
          }
        },
        {
          "output_type": "display_data",
          "data": {
            "text/plain": [
              "<Figure size 432x288 with 0 Axes>"
            ]
          },
          "metadata": {}
        }
      ]
    },
    {
      "cell_type": "code",
      "metadata": {
        "id": "C1OOxNERISfR"
      },
      "source": [
        ""
      ],
      "execution_count": null,
      "outputs": []
    },
    {
      "cell_type": "code",
      "metadata": {
        "id": "bCVzoer_ISb7"
      },
      "source": [
        ""
      ],
      "execution_count": null,
      "outputs": []
    }
  ]
}
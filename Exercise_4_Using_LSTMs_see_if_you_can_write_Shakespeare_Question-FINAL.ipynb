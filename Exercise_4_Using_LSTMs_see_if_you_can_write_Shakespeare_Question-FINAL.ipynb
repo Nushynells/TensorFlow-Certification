{
 "cells": [
  {
   "cell_type": "code",
   "execution_count": 1,
   "metadata": {
    "colab": {},
    "colab_type": "code",
    "id": "BOwsuGQQY9OL"
   },
   "outputs": [],
   "source": [
    "# ATTENTION: Please do not alter any of the provided code in the exercise. Only add your own code where indicated\n",
    "# ATTENTION: Please do not add or remove any cells in the exercise. The grader will check specific cells based on the cell position.\n",
    "# ATTENTION: Please use the provided epoch values when training.\n",
    "\n",
    "from tensorflow.keras.preprocessing.sequence import pad_sequences\n",
    "from tensorflow.keras.layers import Embedding, LSTM, Dense, Dropout, Bidirectional\n",
    "from tensorflow.keras.preprocessing.text import Tokenizer\n",
    "from tensorflow.keras.models import Sequential\n",
    "from tensorflow.keras.optimizers import Adam\n",
    "from os import getcwd\n",
    "### YOUR CODE HERE\n",
    "# Figure out how to import regularizers\n",
    "###\n",
    "from tensorflow.keras import regularizers\n",
    "import tensorflow.keras.utils as ku \n",
    "import numpy as np "
   ]
  },
  {
   "cell_type": "code",
   "execution_count": 2,
   "metadata": {
    "colab": {},
    "colab_type": "code",
    "id": "PRnDnCW-Z7qv"
   },
   "outputs": [],
   "source": [
    "tokenizer = Tokenizer()\n",
    "path_sonnets = f\"{getcwd()}/../tmp2/sonnets.txt\"\n",
    "data = open(path_sonnets).read()\n",
    "\n",
    "corpus = data.lower().split(\"\\n\")\n",
    "\n",
    "\n",
    "tokenizer.fit_on_texts(corpus)\n",
    "total_words = len(tokenizer.word_index) + 1\n",
    "\n",
    "# create input sequences using list of tokens\n",
    "input_sequences = []\n",
    "for line in corpus:\n",
    "\ttoken_list = tokenizer.texts_to_sequences([line])[0]\n",
    "\tfor i in range(1, len(token_list)):\n",
    "\t\tn_gram_sequence = token_list[:i+1]\n",
    "\t\tinput_sequences.append(n_gram_sequence)\n",
    "\n",
    "\n",
    "# pad sequences \n",
    "max_sequence_len = max([len(x) for x in input_sequences])\n",
    "input_sequences = np.array(pad_sequences(input_sequences, maxlen=max_sequence_len, padding='pre'))\n",
    "\n",
    "# create predictors and label\n",
    "predictors, label = input_sequences[:,:-1],input_sequences[:,-1]\n",
    "\n",
    "label = ku.to_categorical(label, num_classes=total_words)"
   ]
  },
  {
   "cell_type": "code",
   "execution_count": 3,
   "metadata": {
    "colab": {},
    "colab_type": "code",
    "id": "w9vH8Y59ajYL"
   },
   "outputs": [
    {
     "name": "stdout",
     "output_type": "stream",
     "text": [
      "Model: \"sequential\"\n",
      "_________________________________________________________________\n",
      "Layer (type)                 Output Shape              Param #   \n",
      "=================================================================\n",
      "embedding (Embedding)        (None, 10, 100)           321100    \n",
      "_________________________________________________________________\n",
      "bidirectional (Bidirectional (None, 10, 300)           301200    \n",
      "_________________________________________________________________\n",
      "dropout (Dropout)            (None, 10, 300)           0         \n",
      "_________________________________________________________________\n",
      "lstm_1 (LSTM)                (None, 100)               160400    \n",
      "_________________________________________________________________\n",
      "dense (Dense)                (None, 1605)              162105    \n",
      "_________________________________________________________________\n",
      "dense_1 (Dense)              (None, 3211)              5156866   \n",
      "=================================================================\n",
      "Total params: 6,101,671\n",
      "Trainable params: 6,101,671\n",
      "Non-trainable params: 0\n",
      "_________________________________________________________________\n",
      "None\n"
     ]
    }
   ],
   "source": [
    "model = Sequential()\n",
    "model.add(Embedding(total_words, 100, input_length = max_sequence_len - 1)) # Your Embedding Layer\n",
    "model.add(Bidirectional(LSTM(150, return_sequences = True))) # An LSTM Layer\n",
    "model.add(Dropout(0.2)) # A dropout layer\n",
    "model.add(LSTM(100)) # Another LSTM Layer\n",
    "model.add(Dense(total_words/2, activation = 'relu', kernel_regularizer = regularizers.l2(0.01))) # A Dense Layer including regularizers\n",
    "model.add(Dense(total_words, activation = 'softmax')) # A Dense Layer\n",
    "# Pick an optimizer \n",
    "model.compile(loss = 'categorical_crossentropy', optimizer = 'adam', metrics = ['accuracy']) # Pick a loss function and an optimizer\n",
    "print(model.summary())"
   ]
  },
  {
   "cell_type": "code",
   "execution_count": 4,
   "metadata": {
    "colab": {},
    "colab_type": "code",
    "id": "AIg2f1HBxqof"
   },
   "outputs": [
    {
     "name": "stdout",
     "output_type": "stream",
     "text": [
      "Train on 15462 samples\n",
      "Epoch 1/50\n",
      "15462/15462 [==============================] - 22s 1ms/sample - loss: 7.3176 - accuracy: 0.0191\n",
      "Epoch 2/50\n",
      "15462/15462 [==============================] - 10s 647us/sample - loss: 6.5492 - accuracy: 0.0209\n",
      "Epoch 3/50\n",
      "15462/15462 [==============================] - 10s 640us/sample - loss: 6.4630 - accuracy: 0.0231\n",
      "Epoch 4/50\n",
      "15462/15462 [==============================] - 19s 1ms/sample - loss: 6.4003 - accuracy: 0.0274\n",
      "Epoch 5/50\n",
      "15462/15462 [==============================] - 17s 1ms/sample - loss: 6.3060 - accuracy: 0.0317\n",
      "Epoch 6/50\n",
      "15462/15462 [==============================] - 11s 737us/sample - loss: 6.2181 - accuracy: 0.0343\n",
      "Epoch 7/50\n",
      "15462/15462 [==============================] - 11s 731us/sample - loss: 6.1517 - accuracy: 0.0382\n",
      "Epoch 8/50\n",
      "15462/15462 [==============================] - 11s 705us/sample - loss: 6.0905 - accuracy: 0.0376\n",
      "Epoch 9/50\n",
      "15462/15462 [==============================] - 10s 678us/sample - loss: 6.0318 - accuracy: 0.0425\n",
      "Epoch 10/50\n",
      "15462/15462 [==============================] - 10s 647us/sample - loss: 5.9745 - accuracy: 0.0442\n",
      "Epoch 11/50\n",
      "15462/15462 [==============================] - 10s 679us/sample - loss: 5.9121 - accuracy: 0.0496\n",
      "Epoch 12/50\n",
      "15462/15462 [==============================] - 10s 647us/sample - loss: 5.8396 - accuracy: 0.0511\n",
      "Epoch 13/50\n",
      "15462/15462 [==============================] - 10s 621us/sample - loss: 5.7596 - accuracy: 0.0558\n",
      "Epoch 14/50\n",
      "15462/15462 [==============================] - 10s 634us/sample - loss: 5.6863 - accuracy: 0.0588\n",
      "Epoch 15/50\n",
      "15462/15462 [==============================] - 10s 666us/sample - loss: 5.6032 - accuracy: 0.0625\n",
      "Epoch 16/50\n",
      "15462/15462 [==============================] - 10s 627us/sample - loss: 5.5220 - accuracy: 0.0629\n",
      "Epoch 17/50\n",
      "15462/15462 [==============================] - 10s 628us/sample - loss: 5.4467 - accuracy: 0.0687\n",
      "Epoch 18/50\n",
      "15462/15462 [==============================] - 10s 659us/sample - loss: 5.3744 - accuracy: 0.0722\n",
      "Epoch 19/50\n",
      "15462/15462 [==============================] - 9s 582us/sample - loss: 5.2968 - accuracy: 0.0777\n",
      "Epoch 20/50\n",
      "15462/15462 [==============================] - 10s 653us/sample - loss: 5.2214 - accuracy: 0.0809\n",
      "Epoch 21/50\n",
      "15462/15462 [==============================] - 10s 647us/sample - loss: 5.1471 - accuracy: 0.0857\n",
      "Epoch 22/50\n",
      "15462/15462 [==============================] - 10s 666us/sample - loss: 5.0709 - accuracy: 0.0875\n",
      "Epoch 23/50\n",
      "15462/15462 [==============================] - 9s 608us/sample - loss: 4.9890 - accuracy: 0.0923\n",
      "Epoch 24/50\n",
      "15462/15462 [==============================] - 9s 582us/sample - loss: 4.9149 - accuracy: 0.0992\n",
      "Epoch 25/50\n",
      "15462/15462 [==============================] - 9s 563us/sample - loss: 4.8473 - accuracy: 0.1016\n",
      "Epoch 26/50\n",
      "15462/15462 [==============================] - 9s 594us/sample - loss: 4.7691 - accuracy: 0.1081\n",
      "Epoch 27/50\n",
      "15462/15462 [==============================] - 10s 641us/sample - loss: 4.6949 - accuracy: 0.1129\n",
      "Epoch 28/50\n",
      "15462/15462 [==============================] - 9s 582us/sample - loss: 4.6195 - accuracy: 0.1193\n",
      "Epoch 29/50\n",
      "15462/15462 [==============================] - 9s 582us/sample - loss: 4.5438 - accuracy: 0.1264\n",
      "Epoch 30/50\n",
      "15462/15462 [==============================] - 9s 576us/sample - loss: 4.4774 - accuracy: 0.1326\n",
      "Epoch 31/50\n",
      "15462/15462 [==============================] - 10s 634us/sample - loss: 4.4000 - accuracy: 0.1400\n",
      "Epoch 32/50\n",
      "15462/15462 [==============================] - 9s 614us/sample - loss: 4.3333 - accuracy: 0.1517\n",
      "Epoch 33/50\n",
      "15462/15462 [==============================] - 9s 556us/sample - loss: 4.2693 - accuracy: 0.1583\n",
      "Epoch 34/50\n",
      "15462/15462 [==============================] - 9s 557us/sample - loss: 4.2044 - accuracy: 0.1667\n",
      "Epoch 35/50\n",
      "15462/15462 [==============================] - 9s 569us/sample - loss: 4.1290 - accuracy: 0.1796\n",
      "Epoch 36/50\n",
      "15462/15462 [==============================] - 9s 595us/sample - loss: 4.0596 - accuracy: 0.1893\n",
      "Epoch 37/50\n",
      "15462/15462 [==============================] - 10s 660us/sample - loss: 3.9902 - accuracy: 0.2026\n",
      "Epoch 38/50\n",
      "15462/15462 [==============================] - 10s 653us/sample - loss: 3.9308 - accuracy: 0.2148\n",
      "Epoch 39/50\n",
      "15462/15462 [==============================] - 9s 595us/sample - loss: 3.8605 - accuracy: 0.2281\n",
      "Epoch 40/50\n",
      "15462/15462 [==============================] - 9s 556us/sample - loss: 3.8061 - accuracy: 0.2352\n",
      "Epoch 41/50\n",
      "15462/15462 [==============================] - 9s 576us/sample - loss: 3.7356 - accuracy: 0.2515\n",
      "Epoch 42/50\n",
      "15462/15462 [==============================] - 9s 582us/sample - loss: 3.6757 - accuracy: 0.2610\n",
      "Epoch 43/50\n",
      "15462/15462 [==============================] - 10s 640us/sample - loss: 3.6154 - accuracy: 0.2746\n",
      "Epoch 44/50\n",
      "15462/15462 [==============================] - 9s 582us/sample - loss: 3.5599 - accuracy: 0.2864\n",
      "Epoch 45/50\n",
      "15462/15462 [==============================] - 9s 576us/sample - loss: 3.5041 - accuracy: 0.2979\n",
      "Epoch 46/50\n",
      "15462/15462 [==============================] - 9s 550us/sample - loss: 3.4408 - accuracy: 0.3122\n",
      "Epoch 47/50\n",
      "15462/15462 [==============================] - 9s 569us/sample - loss: 3.3821 - accuracy: 0.3260\n",
      "Epoch 48/50\n",
      "15462/15462 [==============================] - 10s 653us/sample - loss: 3.3324 - accuracy: 0.3376\n",
      "Epoch 49/50\n",
      "15462/15462 [==============================] - 9s 588us/sample - loss: 3.2707 - accuracy: 0.3534\n",
      "Epoch 50/50\n",
      "15462/15462 [==============================] - 10s 647us/sample - loss: 3.2296 - accuracy: 0.3588\n"
     ]
    }
   ],
   "source": [
    " history = model.fit(predictors, label, epochs=50, batch_size=128, verbose=1)"
   ]
  },
  {
   "cell_type": "code",
   "execution_count": 5,
   "metadata": {
    "colab": {},
    "colab_type": "code",
    "id": "1fXTEO3GJ282"
   },
   "outputs": [
    {
     "data": {
      "image/png": "[encoded data removed]",
      "text/plain": [
       "<Figure size 432x288 with 1 Axes>"
      ]
     },
     "metadata": {
      "needs_background": "light"
     },
     "output_type": "display_data"
    },
    {
     "data": {
      "image/png": "[encoded data removed]",
      "text/plain": [
       "<Figure size 432x288 with 1 Axes>"
      ]
     },
     "metadata": {
      "needs_background": "light"
     },
     "output_type": "display_data"
    }
   ],
   "source": [
    "%matplotlib inline\n",
    "import matplotlib.pyplot as plt\n",
    "acc = history.history['accuracy']\n",
    "loss = history.history['loss']\n",
    "\n",
    "epochs = range(len(acc))\n",
    "\n",
    "plt.plot(epochs, acc, 'b', label='Training accuracy')\n",
    "plt.title('Training accuracy')\n",
    "\n",
    "plt.figure()\n",
    "\n",
    "plt.plot(epochs, loss, 'b', label='Training Loss')\n",
    "plt.title('Training loss')\n",
    "plt.legend()\n",
    "\n",
    "plt.show()"
   ]
  },
  {
   "cell_type": "code",
   "execution_count": 6,
   "metadata": {
    "colab": {},
    "colab_type": "code",
    "id": "6Vc6PHgxa6Hm"
   },
   "outputs": [
    {
     "name": "stdout",
     "output_type": "stream",
     "text": [
      "Help me Obi Wan Kenobi, you're my only hope a story is shine eyes lie weep ' mistaking new skill bright in thee you contains ' blushing lie weep ' up so eye new ' ' so you ' of thee write her ' so ' up my skill blind show thee ' so eye ' ' weep ' up so ' so eye in thee back back 'greeing write ' mistaking ' back bearing thee live so thee you bearing mow write ' down me write new ' call thee not me so write still you ' to thee write to thee so thee ' not to write\n"
     ]
    }
   ],
   "source": [
    "seed_text = \"Help me Obi Wan Kenobi, you're my only hope\"\n",
    "next_words = 100\n",
    "  \n",
    "for _ in range(next_words):\n",
    "\ttoken_list = tokenizer.texts_to_sequences([seed_text])[0]\n",
    "\ttoken_list = pad_sequences([token_list], maxlen=max_sequence_len-1, padding='pre')\n",
    "\tpredicted = model.predict_classes(token_list, verbose=0)\n",
    "\toutput_word = \"\"\n",
    "\tfor word, index in tokenizer.word_index.items():\n",
    "\t\tif index == predicted:\n",
    "\t\t\toutput_word = word\n",
    "\t\t\tbreak\n",
    "\tseed_text += \" \" + output_word\n",
    "print(seed_text)"
   ]
  },
  {
   "cell_type": "code",
   "execution_count": null,
   "metadata": {},
   "outputs": [],
   "source": [
    "# Now click the 'Submit Assignment' button above.\n",
    "# Once that is complete, please run the following two cells to save your work and close the notebook"
   ]
  },
  {
   "cell_type": "code",
   "execution_count": null,
   "metadata": {},
   "outputs": [],
   "source": [
    "%%javascript\n",
    "<!-- Save the notebook -->\n",
    "IPython.notebook.save_checkpoint();"
   ]
  },
  {
   "cell_type": "code",
   "execution_count": null,
   "metadata": {},
   "outputs": [],
   "source": [
    "%%javascript\n",
    "IPython.notebook.session.delete();\n",
    "window.onbeforeunload = null\n",
    "setTimeout(function() { window.close(); }, 1000);"
   ]
  }
 ],
 "metadata": {
  "accelerator": "GPU",
  "colab": {
   "name": "NLP-Week4-Exercise-Shakespeare-Question.ipynb",
   "provenance": []
  },
  "coursera": {
   "course_slug": "natural-language-processing-tensorflow",
   "graded_item_id": "zLi5k",
   "launcher_item_id": "qRKzU"
  },
  "kernelspec": {
   "display_name": "Python 3",
   "language": "python",
   "name": "python3"
  },
  "language_info": {
   "codemirror_mode": {
    "name": "ipython",
    "version": 3
   },
   "file_extension": ".py",
   "mimetype": "text/x-python",
   "name": "python",
   "nbconvert_exporter": "python",
   "pygments_lexer": "ipython3",
   "version": "3.6.8"
  }
 },
 "nbformat": 4,
 "nbformat_minor": 1
}
